{
 "cells": [
  {
   "cell_type": "markdown",
   "metadata": {},
   "source": [
    "1. Libraries and Their Purpose"
   ]
  },
  {
   "cell_type": "markdown",
   "metadata": {},
   "source": [
    "pandas will help you load and manipulate your dataset."
   ]
  },
  {
   "cell_type": "markdown",
   "metadata": {},
   "source": [
    "numpy will be useful for numerical operations, particularly for working with arrays."
   ]
  },
  {
   "cell_type": "markdown",
   "metadata": {},
   "source": [
    "plotly.graph_objects is for creating more customizable and complex interactive visualizations."
   ]
  },
  {
   "cell_type": "markdown",
   "metadata": {},
   "source": [
    "plotly.express is for creating interactive plots with a simpler syntax."
   ]
  },
  {
   "cell_type": "markdown",
   "metadata": {},
   "source": [
    "matplotlib is used for creating static visualizations and is a more traditional plotting library."
   ]
  },
  {
   "cell_type": "code",
   "execution_count": 9,
   "metadata": {},
   "outputs": [],
   "source": [
    "import pandas as pd\n",
    "import numpy as np\n",
    "import plotly.express as px\n",
    "import plotly.graph_objects as go\n",
    "import matplotlib.pyplot as plt"
   ]
  },
  {
   "cell_type": "code",
   "execution_count": 10,
   "metadata": {},
   "outputs": [],
   "source": [
    "# Load the dataset \n",
    "dataset = pd.read_csv('/Users/rehas./Documents/BIA /PROJECT/PRACTISE/star_classification_bia.csv')"
   ]
  },
  {
   "cell_type": "markdown",
   "metadata": {},
   "source": [
    " --- Basic Analysis ---"
   ]
  },
  {
   "cell_type": "code",
   "execution_count": null,
   "metadata": {},
   "outputs": [],
   "source": [
    "# 1. Overview of the Dataset\n",
    "print(\"\\n--- Dataset Overview ---\")\n",
    "print(f\"Shape of the dataset: {dataset.shape}\")\n",
    "print(f\"Columns: {list(dataset.columns)}\")\n",
    "print(dataset.info())"
   ]
  },
  {
   "cell_type": "code",
   "execution_count": null,
   "metadata": {},
   "outputs": [],
   "source": [
    "# 2. Summary Statistics\n",
    "print(\"\\n--- Summary Statistics ---\")\n",
    "print(dataset.describe())"
   ]
  },
  {
   "cell_type": "code",
   "execution_count": null,
   "metadata": {},
   "outputs": [],
   "source": [
    "# 3. Missing Data\n",
    "missing_data = dataset.isnull().sum()\n",
    "print(\"\\n--- Missing Data ---\")\n",
    "print(missing_data[missing_data > 0])"
   ]
  },
  {
   "cell_type": "markdown",
   "metadata": {},
   "source": [
    "The code visualizes the missing data using a heatmap, where True indicates missing data and False indicates non-missing data."
   ]
  },
  {
   "cell_type": "code",
   "execution_count": null,
   "metadata": {},
   "outputs": [],
   "source": [
    "# Visualize missing data (if any)\n",
    "plt.figure(figsize=(10, 6))\n",
    "plt.title(\"Missing Data Heatmap\", fontsize=16)\n",
    "sns.heatmap(dataset.isnull(), cbar=False, cmap=\"viridis\")\n",
    "plt.show()\n",
    "\n",
    "if dataset.isnull().sum().sum() > 0:\n",
    "    print(\"There are missing values in the dataset.\")\n",
    "else:\n",
    "    print(\"There are no missing values in the dataset.\")\n"
   ]
  },
  {
   "cell_type": "markdown",
   "metadata": {},
   "source": [
    " --- Intermediate Analysis ---"
   ]
  },
  {
   "cell_type": "markdown",
   "metadata": {},
   "source": [
    "This creates an interactive heatmap where the correlation values are displayed within the matrix, and the colors represent the strength of the correlation (darker colors represent stronger correlations)"
   ]
  },
  {
   "cell_type": "code",
   "execution_count": null,
   "metadata": {},
   "outputs": [],
   "source": [
    "# 1. Correlation Heatmap\n",
    "numeric_cols = dataset.select_dtypes(include=[np.number]).columns\n",
    "correlation_matrix = dataset[numeric_cols].corr()\n",
    "\n",
    "fig = px.imshow(correlation_matrix, \n",
    "                text_auto=True, \n",
    "                title=\"Correlation Heatmap\",\n",
    "                color_continuous_scale='Viridis')\n",
    "fig.show()"
   ]
  },
  {
   "cell_type": "markdown",
   "metadata": {},
   "source": [
    "The bar chart will be shown, where each bar represents a class, and the height of the bar indicates how many instances of that class are present in the dataset."
   ]
  },
  {
   "cell_type": "code",
   "execution_count": null,
   "metadata": {},
   "outputs": [],
   "source": [
    "# 2. Class Distribution\n",
    "class_counts = dataset['class'].value_counts()\n",
    "fig = px.bar(class_counts, x=class_counts.index, y=class_counts.values, \n",
    "             labels={'x': 'Class', 'y': 'Count'}, \n",
    "             title=\"Object Class Distribution\",\n",
    "             color=class_counts.index)\n",
    "fig.show()"
   ]
  },
  {
   "cell_type": "markdown",
   "metadata": {},
   "source": [
    "Below plots can be valuable for identifying patterns or trends in the data that could be useful for classification tasks or further analysis."
   ]
  },
  {
   "cell_type": "code",
   "execution_count": null,
   "metadata": {},
   "outputs": [],
   "source": [
    "# 3. Photometric Data Analysis\n",
    "# Plotting scatter plots for each combination of photometric bands\n",
    "photometric_cols = ['u', 'g', 'r', 'i', 'z']\n",
    "for i in range(len(photometric_cols)):\n",
    "    for j in range(i + 1, len(photometric_cols)):\n",
    "        fig = px.scatter(dataset, x=photometric_cols[i], y=photometric_cols[j], \n",
    "                         color='class', \n",
    "                         title=f\"{photometric_cols[i]} vs {photometric_cols[j]}\", \n",
    "                         hover_data=['redshift'], \n",
    "                         labels={'color': 'Class'})\n",
    "        fig.show()\n"
   ]
  },
  {
   "cell_type": "markdown",
   "metadata": {},
   "source": [
    " --- Advanced Analysis ---"
   ]
  },
  {
   "cell_type": "markdown",
   "metadata": {},
   "source": [
    "By analyzing the density contours and marginal histograms, we can gain a deeper understanding of the data's spatial properties, such as the concentration of different object classes and their positions in celestial coordinates."
   ]
  },
  {
   "cell_type": "code",
   "execution_count": null,
   "metadata": {},
   "outputs": [],
   "source": [
    "# 1. Spatial Distribution\n",
    "# Density plot for alpha vs. delta\n",
    "fig = px.density_contour(dataset, x='alpha', y='delta', color='class',\n",
    "                         title=\"Spatial Distribution (Alpha vs. Delta)\",\n",
    "                         labels={'alpha': 'Right Ascension', 'delta': 'Declination'},\n",
    "                         marginal_x=\"histogram\", marginal_y=\"histogram\")\n",
    "fig.show()"
   ]
  },
  {
   "cell_type": "markdown",
   "metadata": {},
   "source": [
    "By comparing the distributions across classes, we can gain valuable insights into how different types of objects (stars, galaxies, or other celestial bodies) are distributed in terms of their distance (as indicated by redshift). This analysis is important for understanding the nature and properties of the objects "
   ]
  },
  {
   "cell_type": "code",
   "execution_count": null,
   "metadata": {},
   "outputs": [],
   "source": [
    "# 2. Redshift Analysis\n",
    "# Violin plot for redshift distribution by class\n",
    "fig = px.violin(dataset, y='redshift', x='class', color='class',\n",
    "                title=\"Redshift Distribution by Class\",\n",
    "                labels={'redshift': 'Redshift', 'class': 'Class'})\n",
    "fig.show()"
   ]
  },
  {
   "cell_type": "code",
   "execution_count": 20,
   "metadata": {},
   "outputs": [],
   "source": [
    "# 3. Clustering (K-Means)\n",
    "from sklearn.cluster import KMeans\n",
    "from sklearn.preprocessing import StandardScaler"
   ]
  },
  {
   "cell_type": "markdown",
   "metadata": {},
   "source": [
    "--- Custom Analysis: Magnitudes Comparison and Redshift vs Class ---"
   ]
  },
  {
   "cell_type": "markdown",
   "metadata": {},
   "source": [
    "1. Compare Magnitudes in Different Filters"
   ]
  },
  {
   "cell_type": "markdown",
   "metadata": {},
   "source": [
    "In this below  code, you're plotting a line chart to compare the median magnitudes in different photometric filters (u, g, r, i, and z) across different classes of objects."
   ]
  },
  {
   "cell_type": "code",
   "execution_count": null,
   "metadata": {},
   "outputs": [],
   "source": [
    "\n",
    "# Line Chart for Magnitudes Comparison\n",
    "magnitude_median = dataset.groupby('class')[['u', 'g', 'r', 'i', 'z']].median().reset_index()\n",
    "\n",
    "fig = go.Figure()\n",
    "for col in ['u', 'g', 'r', 'i', 'z']:\n",
    "    fig.add_trace(go.Scatter(x=magnitude_median['class'], \n",
    "                             y=magnitude_median[col],\n",
    "                             mode='lines+markers',\n",
    "                             name=col))\n",
    "fig.update_layout(title=\"Median Magnitudes in Different Filters by Class\",\n",
    "                  xaxis_title=\"Class\",\n",
    "                  yaxis_title=\"Magnitude\",\n",
    "                  template=\"plotly_dark\",\n",
    "                  legend_title=\"Filters\")\n",
    "fig.show()\n",
    "\n",
    "\n"
   ]
  },
  {
   "cell_type": "markdown",
   "metadata": {},
   "source": [
    "2. Redshift vs. Object Type"
   ]
  },
  {
   "cell_type": "markdown",
   "metadata": {},
   "source": [
    "The box plot for redshift distribution by object class helps in visualizing the spread and central tendency of redshift values for different types of objects in the dataset. It allows for easy comparison of redshift distributions across classes and highlights any potential outliers or unusual trends. This type of visualization is useful in astrophysical studies where the redshift of celestial objects is key to understanding their distance, velocity, and other properties.\n",
    "\n",
    "\n",
    "\n"
   ]
  },
  {
   "cell_type": "code",
   "execution_count": null,
   "metadata": {},
   "outputs": [],
   "source": [
    "\n",
    "fig = px.box(dataset, x='class', y='redshift', color='class',\n",
    "             title=\"Redshift Distribution by Object Class\",\n",
    "             labels={'class': 'Object Class', 'redshift': 'Redshift'})\n",
    "fig.update_layout(template=\"plotly_dark\")\n",
    "fig.show()"
   ]
  },
  {
   "cell_type": "markdown",
   "metadata": {},
   "source": [
    "--- Objective: Redshift Distribution by Object Classification ---"
   ]
  },
  {
   "cell_type": "markdown",
   "metadata": {},
   "source": [
    "The violin plot for redshift distribution by object class provides a comprehensive view of the distribution and density of redshift values across different object classes. It combines the benefits of both box plots and kernel density plots, allowing for a detailed understanding of data spread, central tendency, and variability. This visualization is valuable for astrophysical analysis, as it helps compare redshift distributions across object classes and reveals any interesting patterns, trends, or outliers in the dataset."
   ]
  },
  {
   "cell_type": "code",
   "execution_count": null,
   "metadata": {},
   "outputs": [],
   "source": [
    " \n",
    "fig = px.violin(dataset, x='class', y='redshift', color='class',\n",
    "                box=True, points=\"all\",\n",
    "                title=\"Redshift Distribution by Object Class\",\n",
    "                labels={'class': 'Object Class', 'redshift': 'Redshift'},\n",
    "                template=\"plotly_dark\")\n",
    "fig.show()\n",
    "\n",
    "\n"
   ]
  },
  {
   "cell_type": "markdown",
   "metadata": {},
   "source": [
    " --- Objective: Magnitude vs. Fiber ID ---"
   ]
  },
  {
   "cell_type": "markdown",
   "metadata": {},
   "source": [
    "\n",
    "The scatter plot of magnitude (r) vs. fiber ID provides valuable insight into the relationship between the brightness (in the r-band) of objects and the fiber ID (potentially corresponding to the observation unit or region in the sky). The plot is color-coded by object class, which allows for easy comparison between different types of astronomical objects"
   ]
  },
  {
   "cell_type": "code",
   "execution_count": null,
   "metadata": {},
   "outputs": [],
   "source": [
    "fig = px.scatter(dataset, x='fiber_ID', y='r', color='class',\n",
    "                 title=\"Magnitude (r) vs. Fiber ID\",\n",
    "                 labels={'fiber_ID': 'Fiber ID', 'r': 'Magnitude (r)', 'class': 'Class'},\n",
    "                 hover_data=['u', 'g', 'i', 'z', 'redshift'],\n",
    "                 template=\"plotly_dark\")\n",
    "fig.update_traces(marker=dict(size=7, opacity=0.7))\n",
    "fig.show()"
   ]
  },
  {
   "cell_type": "markdown",
   "metadata": {},
   "source": [
    "--- Objective: Magnitudes Across Different Fibers ---"
   ]
  },
  {
   "cell_type": "markdown",
   "metadata": {},
   "source": [
    "The box plot of r-band magnitude distribution across fibers provides valuable insight into how the brightness (in the r-band) of different objects is distributed across various fiber IDs. It helps to compare the distributions of different object classes (e.g., galaxies, stars) and understand how the magnitude of objects varies depending on the fiber used for observation."
   ]
  },
  {
   "cell_type": "code",
   "execution_count": null,
   "metadata": {},
   "outputs": [],
   "source": [
    "\n",
    "fig = px.box(dataset, x='fiber_ID', y='r', color='class',\n",
    "             title=\"Magnitude (r) Distribution Across Fibers\",\n",
    "             labels={'fiber_ID': 'Fiber ID', 'r': 'Magnitude (r)', 'class': 'Class'},\n",
    "             template=\"plotly_dark\")\n",
    "fig.update_traces(marker=dict(opacity=0.7))\n",
    "fig.show()\n",
    "\n",
    "\n",
    "\n",
    "\n"
   ]
  },
  {
   "cell_type": "markdown",
   "metadata": {},
   "source": [
    "The K-Means clustering results in the 3D scatter plot give a clear visualization of how the dataset is grouped into different clusters based on the selected features (u, g, and redshift). By color-coding the data points according to their cluster labels, you can easily identify how objects with similar characteristics are grouped together, helping in understanding the relationships between different object classes or types based on their photometric data."
   ]
  },
  {
   "cell_type": "code",
   "execution_count": null,
   "metadata": {},
   "outputs": [],
   "source": [
    "# Select numeric features for clustering\n",
    "clustering_features = dataset[['u', 'g', 'r', 'i', 'z', 'redshift']].dropna()\n",
    "scaler = StandardScaler()\n",
    "scaled_features = scaler.fit_transform(clustering_features)\n",
    "\n",
    "# Perform K-Means Clustering\n",
    "kmeans = KMeans(n_clusters=3, random_state=42)\n",
    "clusters = kmeans.fit_predict(scaled_features)\n",
    "\n",
    "# Add clusters to the dataset\n",
    "clustering_features['Cluster'] = clusters\n",
    "fig = px.scatter_3d(clustering_features, x='u', y='g', z='redshift', \n",
    "                    color='Cluster', \n",
    "                    title=\"K-Means Clustering Results\",\n",
    "                    labels={'Cluster': 'Cluster'}, \n",
    "                    hover_data=['r', 'i', 'z'])\n",
    "fig.update_traces(marker=dict(size=5))\n",
    "fig.show()"
   ]
  },
  {
   "cell_type": "markdown",
   "metadata": {},
   "source": [
    " --- Dimensionality Reduction ---"
   ]
  },
  {
   "cell_type": "code",
   "execution_count": 22,
   "metadata": {},
   "outputs": [],
   "source": [
    "from sklearn.decomposition import PCA"
   ]
  },
  {
   "cell_type": "code",
   "execution_count": null,
   "metadata": {},
   "outputs": [],
   "source": [
    "# PCA on scaled features\n",
    "pca = PCA(n_components=2)\n",
    "pca_result = pca.fit_transform(scaled_features)\n",
    "\n",
    "# Create a DataFrame for PCA results\n",
    "pca_df = pd.DataFrame(pca_result, columns=['PC1', 'PC2'])\n",
    "pca_df['Class'] = dataset['class'][:len(pca_df)]\n",
    "\n",
    "fig = px.scatter(pca_df, x='PC1', y='PC2', \n",
    "                 color='Class', \n",
    "                 title=\"2D PCA Visualization\",\n",
    "                 labels={'Class': 'Class'})\n",
    "fig.update_traces(marker=dict(size=5))\n",
    "fig.show()\n",
    "\n"
   ]
  },
  {
   "cell_type": "markdown",
   "metadata": {},
   "source": [
    "--- Objective: Objects Observed in Each Run and Rerun ---"
   ]
  },
  {
   "cell_type": "code",
   "execution_count": null,
   "metadata": {},
   "outputs": [],
   "source": [
    "\n",
    "\n",
    "# Line Chart\n",
    "fig = px.line(run_rerun_counts, x='run_ID', y='count', color='rerun_ID',\n",
    "              title=\"Objects Observed Over Runs (Line Chart)\",\n",
    "              labels={'run_ID': 'Run ID', 'count': 'Count', 'rerun_ID': 'Rerun ID'},\n",
    "              template=\"plotly_dark\")\n",
    "fig.show()\n"
   ]
  },
  {
   "cell_type": "markdown",
   "metadata": {},
   "source": [
    "--- Advanced Analysis: Time Series Analysis of Object Classifications ---"
   ]
  },
  {
   "cell_type": "code",
   "execution_count": null,
   "metadata": {},
   "outputs": [],
   "source": [
    "\n",
    "# Assume MJD represents the Modified Julian Date for the time series\n",
    "time_series_data = dataset.groupby(['MJD', 'class']).size().reset_index(name='count')\n",
    "fig = px.line(time_series_data, x='MJD', y='count', color='class',\n",
    "              title=\"Time Series Analysis of Object Classifications\",\n",
    "              labels={'MJD': 'Modified Julian Date', 'count': 'Count', 'class': 'Object Class'},\n",
    "              template=\"plotly_dark\")\n",
    "fig.show()"
   ]
  },
  {
   "cell_type": "markdown",
   "metadata": {},
   "source": [
    "Spatial Distribution of Objects (Alpha, Delta Coordinates)"
   ]
  },
  {
   "cell_type": "code",
   "execution_count": null,
   "metadata": {},
   "outputs": [],
   "source": [
    "# --- Spatial Distribution of Objects ---\n",
    "fig = px.scatter(dataset, x='alpha', y='delta', color='class',\n",
    "                 title=\"Spatial Distribution of Objects (Alpha vs Delta)\",\n",
    "                 labels={'alpha': 'Right Ascension (Alpha)', 'delta': 'Declination (Delta)', 'class': 'Object Type'},\n",
    "                 template=\"plotly_dark\")\n",
    "fig.update_traces(marker=dict(size=6, opacity=0.6))\n",
    "fig.show()\n"
   ]
  },
  {
   "cell_type": "markdown",
   "metadata": {},
   "source": [
    "Redshift and Distance Calculation"
   ]
  },
  {
   "cell_type": "code",
   "execution_count": null,
   "metadata": {},
   "outputs": [],
   "source": [
    "# --- Redshift and Distance Calculation ---\n",
    "# Assuming Hubble's constant (H0) = 70 km/s/Mpc and c = speed of light in km/s\n",
    "H0 = 70  # Hubble constant in km/s/Mpc\n",
    "c = 3e5  # Speed of light in km/s\n",
    "\n",
    "# Calculate distance in megaparsecs\n",
    "dataset['distance_Mpc'] = (dataset['redshift'] * c) / H0\n",
    "\n",
    "# Scatter Plot with Distance as Color Gradient\n",
    "fig = px.scatter(dataset, x='alpha', y='delta', color='distance_Mpc',\n",
    "                 title=\"Redshift and Distance Distribution\",\n",
    "                 labels={'alpha': 'Right Ascension (Alpha)', 'delta': 'Declination (Delta)', 'distance_Mpc': 'Distance (Mpc)'},\n",
    "                 color_continuous_scale='Jet',\n",
    "                 template=\"plotly_dark\")\n",
    "fig.update_traces(marker=dict(size=6, opacity=0.7))\n",
    "fig.show()\n"
   ]
  },
  {
   "cell_type": "markdown",
   "metadata": {},
   "source": [
    "Outlier Detection in Magnitudes and Redshifts"
   ]
  },
  {
   "cell_type": "code",
   "execution_count": null,
   "metadata": {},
   "outputs": [],
   "source": [
    "# --- Outlier Detection in Magnitudes and Redshifts ---\n",
    "# Z-Score for outlier detection\n",
    "from scipy.stats import zscore\n",
    "\n",
    "dataset['zscore_magnitude'] = zscore(dataset[['u', 'g', 'r', 'i', 'z']].mean(axis=1))\n",
    "dataset['zscore_redshift'] = zscore(dataset['redshift'])\n",
    "\n",
    "# Highlight outliers (absolute Z-score > 3)\n",
    "outliers = dataset[(dataset['zscore_magnitude'].abs() > 3) | (dataset['zscore_redshift'].abs() > 3)]\n",
    "\n",
    "# Scatter Plot with Outliers Highlighted\n",
    "fig = px.scatter(dataset, x='redshift', y='r', color='class', size=dataset['zscore_redshift'].abs(),\n",
    "                 title=\"Outlier Detection in Magnitudes and Redshifts\",\n",
    "                 labels={'redshift': 'Redshift', 'r': 'Magnitude (r)', 'class': 'Object Type'},\n",
    "                 hover_data=['zscore_magnitude', 'zscore_redshift'],\n",
    "                 template=\"plotly_dark\")\n",
    "fig.add_scatter(x=outliers['redshift'], y=outliers['r'], mode='markers',\n",
    "                marker=dict(color='red', size=8, symbol='x'), name='Outliers')\n",
    "fig.show()\n"
   ]
  },
  {
   "cell_type": "markdown",
   "metadata": {},
   "source": [
    "Fiber Usage Efficiency by Plate"
   ]
  },
  {
   "cell_type": "code",
   "execution_count": null,
   "metadata": {},
   "outputs": [],
   "source": [
    "# --- Fiber Usage Efficiency by Plate ---\n",
    "fiber_efficiency = dataset.groupby(['plate', 'fiber_ID']).size().reset_index(name='count')\n",
    "\n",
    "# Heat Map of Fiber Usage\n",
    "heatmap_efficiency = fiber_efficiency.pivot_table(index='plate', columns='fiber_ID', values='count', fill_value=0)\n",
    "fig = px.imshow(heatmap_efficiency, text_auto=True, color_continuous_scale='Blues',\n",
    "                title=\"Fiber Usage Efficiency by Plate\",\n",
    "                labels={'x': 'Fiber ID', 'y': 'Plate', 'color': 'Count'})\n",
    "fig.show()\n",
    "\n",
    "# Bar Chart of Fiber Usage\n",
    "fiber_efficiency_summary = fiber_efficiency.groupby('plate')['count'].sum().reset_index()\n",
    "fig = px.bar(fiber_efficiency_summary, x='plate', y='count',\n",
    "             title=\"Total Fiber Usage by Plate\",\n",
    "             labels={'plate': 'Plate', 'count': 'Total Observations'},\n",
    "             template=\"plotly_dark\")\n",
    "fig.show()\n"
   ]
  },
  {
   "cell_type": "code",
   "execution_count": 39,
   "metadata": {},
   "outputs": [],
   "source": [
    "# --- Save Processed Data ---\n",
    "# Save the processed dataset for further use\n",
    "dataset.to_csv('EDA_processed_dataset.csv', index=False)"
   ]
  },
  {
   "cell_type": "code",
   "execution_count": null,
   "metadata": {},
   "outputs": [],
   "source": []
  }
 ],
 "metadata": {
  "kernelspec": {
   "display_name": "reha",
   "language": "python",
   "name": "python3"
  },
  "language_info": {
   "codemirror_mode": {
    "name": "ipython",
    "version": 3
   },
   "file_extension": ".py",
   "mimetype": "text/x-python",
   "name": "python",
   "nbconvert_exporter": "python",
   "pygments_lexer": "ipython3",
   "version": "3.12.5"
  }
 },
 "nbformat": 4,
 "nbformat_minor": 2
}
