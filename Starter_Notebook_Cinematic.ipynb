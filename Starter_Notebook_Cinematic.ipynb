{
 "cells": [
  {
   "cell_type": "markdown",
   "metadata": {},
   "source": [
    "# Welcome to starter notebook to get start GEN AI Hackathon \n",
    "\n",
    "# Simple AI Cinematic Agent Starter Notebook"
   ]
  },
  {
   "cell_type": "code",
   "execution_count": null,
   "metadata": {},
   "outputs": [],
   "source": [
    "import os\n",
    "import openai\n",
    "from PIL import Image\n",
    "import requests\n",
    "from io import BytesIO"
   ]
  },
  {
   "cell_type": "markdown",
   "metadata": {},
   "source": [
    "Setup OpenAI API key in your environment \n",
    "1. Option: you can use any other API instead of OpenAI API key"
   ]
  },
  {
   "cell_type": "markdown",
   "metadata": {},
   "source": [
    "\n",
    "openai.api_key = os.getenv(\"OPENAI_API_KEY\") "
   ]
  },
  {
   "cell_type": "markdown",
   "metadata": {},
   "source": [
    "Write Agent "
   ]
  },
  {
   "cell_type": "code",
   "execution_count": null,
   "metadata": {},
   "outputs": [],
   "source": [
    "\n",
    "def writer_agent_tool() -> str:\n",
    "    prompt = \"\"\"\n",
    "    Write your prompt here\n",
    "    \"\"\"\n",
    "    response = openai.chat.completions.create(\n",
    "        model=\"your Model\",\n",
    "        messages=[{\"role\": \"user\", \"content\": prompt}]\n",
    "    )\n",
    "    return response.choices[0].message.content"
   ]
  },
  {
   "cell_type": "markdown",
   "metadata": {},
   "source": [
    "Director Agent"
   ]
  },
  {
   "cell_type": "code",
   "execution_count": null,
   "metadata": {},
   "outputs": [],
   "source": [
    "\n",
    "def director_agent_tool(synopsis: str) -> str:\n",
    "    prompt = f\"\"\"\n",
    "    Write your prompt\n",
    "    \"\"\"\n",
    "    response = openai.chat.completions.create(\n",
    "        model=\"Your Model\",\n",
    "        messages=[{\"role\": \"user\", \"content\": prompt}]\n",
    "    )\n",
    "    return response.choices[0].message.content"
   ]
  },
  {
   "cell_type": "markdown",
   "metadata": {},
   "source": [
    "Visualizer Agent"
   ]
  },
  {
   "cell_type": "code",
   "execution_count": null,
   "metadata": {},
   "outputs": [],
   "source": [
    "\n",
    "def visualizer_agent_tool(idea: str) -> str:\n",
    "    try:\n",
    "        response = openai.images.generate(\n",
    "            prompt=idea,\n",
    "            n=1,\n",
    "            size=\"512x512\"\n",
    "        )\n",
    "        image_url = response.data[0].url\n",
    "        image = Image.open(BytesIO(requests.get(image_url).content))\n",
    "        image.show()\n",
    "        return \"Image displayed successfully.\"\n",
    "    except Exception as e:\n",
    "        return f\" Image generation failed: {e}\"\n"
   ]
  },
  {
   "cell_type": "markdown",
   "metadata": {},
   "source": [
    "Editor Agent"
   ]
  },
  {
   "cell_type": "code",
   "execution_count": null,
   "metadata": {},
   "outputs": [],
   "source": [
    "def editor_agent_tool(idea: str, feedback: str) -> str:\n",
    "    prompt = f\"\"\"\n",
    "        write your prompt \n",
    "    \"\"\"\n",
    "    response = openai.chat.completions.create(\n",
    "        model=\"your model\",\n",
    "        messages=[{\"role\": \"user\", \"content\": prompt}]\n",
    "    )\n",
    "    return response.choices[0].message.content"
   ]
  },
  {
   "cell_type": "markdown",
   "metadata": {},
   "source": [
    "Pipeline to run"
   ]
  },
  {
   "cell_type": "code",
   "execution_count": null,
   "metadata": {},
   "outputs": [],
   "source": [
    "#Run It All\n",
    "def run_cinematic_flow():\n",
    "    idea = writer_agent()\n",
    "    print(\"\\nConcept:\\n\", idea)\n",
    "\n",
    "    scene = director_agent(idea)\n",
    "    print(\"\\nScene:\\n\", scene)\n",
    "\n",
    "    print(\"\\nPoster:\\n\", visualizer_agent(\"Movie poster: \" + idea.splitlines()[0]))\n",
    "\n",
    "    feedback = \"write your prompt\"\n",
    "    revision = editor_agent(idea, feedback)\n",
    "    print(\"\\nRevised Concept:\\n\", revision)"
   ]
  },
  {
   "cell_type": "markdown",
   "metadata": {},
   "source": [
    "# Mandatory : \n",
    "Submit your solution notebook with proper code implementation. Clearly specify the steps you followed to solve the problem, and include a brief introduction explaining your approach."
   ]
  },
  {
   "cell_type": "markdown",
   "metadata": {},
   "source": [
    "📌 Note\n",
    "1. This notebook serves as a starter template to help you get started with your own cinematic AI agent pipeline.\n",
    "2. Your own implementation is very important—feel free to modify, extend, and experiment with the provided code.\n",
    "3. Clearly describe your approach to solving the problem. Explain how you structured the agents and how they interact.\n",
    "4. You can use any AI agent frameworks like LangChain, LlamaIndex, or others to orchestrate agent workflows.\n",
    "5. Consider adding features like memory management, tools integration, and custom prompts to enhance functionality."
   ]
  },
  {
   "cell_type": "code",
   "execution_count": null,
   "metadata": {},
   "outputs": [],
   "source": []
  }
 ],
 "metadata": {
  "kernelspec": {
   "display_name": "py3-kernel",
   "language": "python",
   "name": "py3-kernel"
  },
  "language_info": {
   "codemirror_mode": {
    "name": "ipython",
    "version": 3
   },
   "file_extension": ".py",
   "mimetype": "text/x-python",
   "name": "python",
   "nbconvert_exporter": "python",
   "pygments_lexer": "ipython3",
   "version": "3.11.7"
  }
 },
 "nbformat": 4,
 "nbformat_minor": 2
}
